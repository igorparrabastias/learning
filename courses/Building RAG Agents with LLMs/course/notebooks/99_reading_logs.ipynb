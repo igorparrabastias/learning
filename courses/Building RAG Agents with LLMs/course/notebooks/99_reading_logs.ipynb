{
 "cells": [
  {
   "cell_type": "markdown",
   "id": "38b61088-f6a8-409c-adbf-d36cd1339b6b",
   "metadata": {},
   "source": [
    "<center><a href=\"https://www.nvidia.com/en-us/training/\"><img src=\"https://dli-lms.s3.amazonaws.com/assets/general/DLI_Header_White.png\" width=\"400\" height=\"186\" /></a></center>\n",
    "<br>\n",
    "\n",
    "# <font color=\"#76b900\">**Notebook 99:** Reading Microservice Logs</font>"
   ]
  },
  {
   "cell_type": "markdown",
   "id": "38e05d95-8db7-45b3-b6eb-6396ce219b78",
   "metadata": {},
   "source": [
    "<br>\n",
    "\n",
    "**Below are some utility commands to help you investigate what's going on with your microservices:**"
   ]
  },
  {
   "cell_type": "code",
   "execution_count": 1,
   "id": "def3976f-9295-4fbd-8758-1a7a913657fc",
   "metadata": {},
   "outputs": [
    {
     "name": "stdout",
     "output_type": "stream",
     "text": [
      "modifier\n",
      "frontend_rproxy\n",
      "course-nginx-1\n",
      "frontend\n",
      "jupyter-notebook-server\n",
      "docker_router\n",
      "llm_client\n"
     ]
    }
   ],
   "source": [
    "import requests\n",
    "\n",
    "for entry in requests.get(\"http://docker_router:8070/containers\").json():\n",
    "    if entry.get(\"status\") == 'running':\n",
    "        print(entry.get(\"name\"))"
   ]
  },
  {
   "cell_type": "code",
   "execution_count": 2,
   "id": "c111a7b7-4a54-402d-8c38-ff6f058c5afb",
   "metadata": {},
   "outputs": [
    {
     "name": "stdout",
     "output_type": "stream",
     "text": [
      "chema\n",
      "    schema = self._generate_schema_inner(obj)\n",
      "             ^^^^^^^^^^^^^^^^^^^^^^^^^^^^^^^^\n",
      "  File \"/usr/local/lib/python3.11/site-packages/pydantic/_internal/_generate_schema.py\", line 908, in _generate_schema_inner\n",
      "    return self._annotated_schema(obj)\n",
      "           ^^^^^^^^^^^^^^^^^^^^^^^^^^^\n",
      "  File \"/usr/local/lib/python3.11/site-packages/pydantic/_internal/_generate_schema.py\", line 2028, in _annotated_schema\n",
      "    schema = self._apply_annotations(source_type, annotations)\n",
      "             ^^^^^^^^^^^^^^^^^^^^^^^^^^^^^^^^^^^^^^^^^^^^^^^^^\n",
      "  File \"/usr/local/lib/python3.11/site-packages/pydantic/_internal/_generate_schema.py\", line 2107, in _apply_annotations\n",
      "    schema = get_inner_schema(source_type)\n",
      "             ^^^^^^^^^^^^^^^^^^^^^^^^^^^^^\n",
      "  File \"/usr/local/lib/python3.11/site-packages/pydantic/_internal/_schema_generation_shared.py\", line 83, in __call__\n",
      "    schema = self._handler(source_type)\n",
      "             ^^^^^^^^^^^^^^^^^^^^^^^^^^\n",
      "  File \"/usr/local/lib/python3.11/site-packages/pydantic/_internal/_generate_schema.py\", line 2189, in new_handler\n",
      "    schema = metadata_get_schema(source, get_inner_schema)\n",
      "             ^^^^^^^^^^^^^^^^^^^^^^^^^^^^^^^^^^^^^^^^^^^^^\n",
      "  File \"/usr/local/lib/python3.11/site-packages/pydantic/_internal/_generate_schema.py\", line 2185, in <lambda>\n",
      "    lambda source, handler: handler(source)\n",
      "                            ^^^^^^^^^^^^^^^\n",
      "  File \"/usr/local/lib/python3.11/site-packages/pydantic/_internal/_schema_generation_shared.py\", line 83, in __call__\n",
      "    schema = self._handler(source_type)\n",
      "             ^^^^^^^^^^^^^^^^^^^^^^^^^^\n",
      "  File \"/usr/local/lib/python3.11/site-packages/pydantic/_internal/_generate_schema.py\", line 2088, in inner_handler\n",
      "    schema = self._generate_schema_inner(obj)\n",
      "             ^^^^^^^^^^^^^^^^^^^^^^^^^^^^^^^^\n",
      "  File \"/usr/local/lib/python3.11/site-packages/pydantic/_internal/_generate_schema.py\", line 929, in _generate_schema_inner\n",
      "    return self.match_type(obj)\n",
      "           ^^^^^^^^^^^^^^^^^^^^\n",
      "  File \"/usr/local/lib/python3.11/site-packages/pydantic/_internal/_generate_schema.py\", line 1029, in match_type\n",
      "    return self._match_generic_type(obj, origin)\n",
      "           ^^^^^^^^^^^^^^^^^^^^^^^^^^^^^^^^^^^^^\n",
      "  File \"/usr/local/lib/python3.11/site-packages/pydantic/_internal/_generate_schema.py\", line 1058, in _match_generic_type\n",
      "    return self._union_schema(obj)\n",
      "           ^^^^^^^^^^^^^^^^^^^^^^^\n",
      "  File \"/usr/local/lib/python3.11/site-packages/pydantic/_internal/_generate_schema.py\", line 1378, in _union_schema\n",
      "    choices.append(self.generate_schema(arg))\n",
      "                   ^^^^^^^^^^^^^^^^^^^^^^^^^\n",
      "  File \"/usr/local/lib/python3.11/site-packages/pydantic/_internal/_generate_schema.py\", line 655, in generate_schema\n",
      "    schema = self._generate_schema_inner(obj)\n",
      "             ^^^^^^^^^^^^^^^^^^^^^^^^^^^^^^^^\n",
      "  File \"/usr/local/lib/python3.11/site-packages/pydantic/_internal/_generate_schema.py\", line 929, in _generate_schema_inner\n",
      "    return self.match_type(obj)\n",
      "           ^^^^^^^^^^^^^^^^^^^^\n",
      "  File \"/usr/local/lib/python3.11/site-packages/pydantic/_internal/_generate_schema.py\", line 1038, in match_type\n",
      "    return self._unknown_type_schema(obj)\n",
      "           ^^^^^^^^^^^^^^^^^^^^^^^^^^^^^^\n",
      "  File \"/usr/local/lib/python3.11/site-packages/pydantic/_internal/_generate_schema.py\", line 558, in _unknown_type_schema\n",
      "    raise PydanticSchemaGenerationError(\n",
      "pydantic.errors.PydanticSchemaGenerationError: Unable to generate pydantic-core schema for <class 'starlette.requests.Request'>. Set `arbitrary_types_allowed=True` in the model_config to ignore this error or implement `__get_pydantic_core_schema__` on your type to fully support it.\n",
      "\n",
      "If you got this error by calling handler(<some type>) within `__get_pydantic_core_schema__` then you likely need to call `handler.generate_schema(<some type>)` since we do not call `__get_pydantic_core_schema__` on `<some type>` otherwise to avoid infinite recursion.\n",
      "\n",
      "For further information visit https://errors.pydantic.dev/2.9/u/schema-for-unknown-type\n",
      "\n"
     ]
    }
   ],
   "source": [
    "service_name = \"frontend\"  ## Which microservice to look at\n",
    "from_idx = -4000           ## - to see truncated output\n",
    "# from_idx = 0             ## - to see full output\n",
    "print(requests.get(f\"http://docker_router:8070/containers/{service_name}/logs\").json()[\"logs\"][from_idx:])"
   ]
  },
  {
   "cell_type": "code",
   "execution_count": null,
   "id": "6636a1fa-4357-417c-b9ad-3f9a4564ad12",
   "metadata": {},
   "outputs": [],
   "source": []
  }
 ],
 "metadata": {
  "kernelspec": {
   "display_name": "Python 3 (ipykernel)",
   "language": "python",
   "name": "python3"
  },
  "language_info": {
   "codemirror_mode": {
    "name": "ipython",
    "version": 3
   },
   "file_extension": ".py",
   "mimetype": "text/x-python",
   "name": "python",
   "nbconvert_exporter": "python",
   "pygments_lexer": "ipython3",
   "version": "3.11.10"
  }
 },
 "nbformat": 4,
 "nbformat_minor": 5
}
