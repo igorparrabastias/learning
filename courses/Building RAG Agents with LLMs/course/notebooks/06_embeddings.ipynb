{
 "cells": [
  {
   "cell_type": "markdown",
   "metadata": {
    "id": "FDbRWyvFguRc"
   },
   "source": [
    "<center><a href=\"https://www.nvidia.com/en-us/training/\"><img src=\"https://dli-lms.s3.amazonaws.com/assets/general/DLI_Header_White.png\" width=\"400\" height=\"186\" /></a></center>"
   ]
  },
  {
   "cell_type": "markdown",
   "metadata": {
    "id": "8U3dZ6VIZEUn"
   },
   "source": [
    "<br>\n",
    "\n",
    "# <font color=\"#76b900\" style=\"text-align:center;\">**Notebook 6:** Embedding Models and Semantic Reasoning</font>\n",
    "\n",
    "<br>\n",
    "\n",
    "In our previous notebook, we progressed our efforts towards the large document domain and learned how to apply our same techniques for dealing with a large base of relevant content! Along the way, we noted some challenges — specifically in the area of on-the-fly interpretation — that we still couldn't solve with our existing techniques. We will use this notebook to shift our focus to a different approach to help us approach this objective: **embedding models**.\n",
    "\n",
    "\n",
    "<br>\n",
    "\n",
    "### **Learning Objectives:**\n",
    "\n",
    "- Familiarize yourself with embeddings — numerical representations of words, phrases, or documents — and how they enable deep learning models to process semantic meanings.\n",
    "\n",
    "- Learn how to apply these embedding models in large-scale document processing, enhancing our existing methods of document summarization and knowledge extraction.\n",
    "\n",
    "<br>\n",
    "\n",
    "### **Questions To Think About:**\n",
    "\n",
    "- How do embeddings contribute to a deeper understanding of document chunks, especially when dealing with inconsistencies or text conversion issues?\n",
    "\n",
    "- How do we strike the right balance between detail and computational efficiency with embedding models? Are there ways to rephrase or canonicalize (standardize) your queries with LLMs? Alternatively, can we fine-tune them for specialized tasks?\n",
    "\n",
    "- How can embedding models complement the running state chains and knowledge bases we've previously developed? *(Topic of next the notebook)*\n",
    "\n",
    "<br>\n",
    "\n",
    "### **Notebook Source:**\n",
    "\n",
    "- This notebook is part of a larger [**NVIDIA Deep Learning Institute**](https://www.nvidia.com/en-us/training/) course titled [**Building RAG Agents with LLMs**](https://www.nvidia.com/en-sg/training/instructor-led-workshops/building-rag-agents-with-llms/). If sharing this material, please give credit and link back to the original course.\n",
    "\n",
    "<br>\n",
    "\n",
    "\n",
    "### **Environment Setup:**"
   ]
  },
  {
   "cell_type": "code",
   "execution_count": 45,
   "metadata": {
    "colab": {
     "base_uri": "https://localhost:8080/"
    },
    "executionInfo": {
     "elapsed": 68012,
     "status": "ok",
     "timestamp": 1703280292779,
     "user": {
      "displayName": "Vadim Kudlay",
      "userId": "00553664172613290122"
     },
     "user_tz": 360
    },
    "id": "mo36Q8zRZ5i_",
    "outputId": "46ae6923-36d2-4a7f-a8f2-33f73755bd90"
   },
   "outputs": [],
   "source": [
    "## Necessary for Colab, not necessary for course environment\n",
    "%pip install -qq langchain langchain-nvidia-ai-endpoints gradio\n",
    "%pip install -qq arxiv pymupdf\n",
    "%pip install -qq langchain_openai\n",
    "\n",
    "# import os\n",
    "# os.environ[\"NVIDIA_API_KEY\"] = \"nvapi-...\"\n",
    "\n",
    "from functools import partial\n",
    "from rich.console import Console\n",
    "from rich.style import Style\n",
    "from rich.theme import Theme\n",
    "\n",
    "console = Console()\n",
    "base_style = Style(color=\"#76B900\", bold=True)\n",
    "pprint = partial(console.print, style=base_style)"
   ]
  },
  {
   "cell_type": "markdown",
   "metadata": {
    "id": "jhnjt1nEsiwO"
   },
   "source": [
    "----\n",
    "\n",
    "<br>\n",
    "\n",
    "## **Part 1:** Refreshing On Embedding Models\n",
    "\n",
    "In this section, we'll review the ideas surrounding natural language processing with deep learning to define what embedding models are and how they're related to the tools we've taken for granted thus far.\n",
    "\n",
    "<br>\n",
    "\n",
    "### **Understanding Latent Embeddings**\n",
    "\n",
    "Latent embeddings represent the middle ground in deep learning networks, bridging the gap between input and output. For instance, let's consider a lightweight two-layer network designed to classify [**MNIST digits**](https://en.wikipedia.org/wiki/MNIST_database). For this, the inputs and outputs might be flattened images and one-hot probability vectors, respectively. Then, the values produced by the first layer in this setup are the latent embeddings of the image which, by optimization, converge into useful representations for the final layer to use. This makes them **semantically rich embeddings** that may not be human-interpretable but can still be leveraged for their raw vector properties.\n",
    "\n",
    "<br>\n",
    "\n",
    "### **Word Embeddings: The Building Blocks of Language Models**\n",
    "\n",
    "Word embeddings are high-dimensional vector representations of individual words, forming the backbone of deep language models. These embeddings are created through an optimization process within an end-to-end pipeline tailored for specific tasks. [**Word2vec**](https://en.wikipedia.org/wiki/Word2vec) is a prominent standalone example for those interested. In practical terms, a token from a language model's $v$-token vocabulary gets mapped from a token index to an $d$-dimensional token embedding:\n",
    "\n",
    "$$\\text{Token Index} \\in \\{0, 1, \\cdots, v-1\\} \\to \\text{Token Embedding} \\in \\mathbb{R}^{d}$$\n",
    "\n",
    "For a sequence of $n$ tokens, this mapping extends to the entire sequence:\n",
    "\n",
    "$$\\text{Token Sequence} \\in \\{0, 1, \\cdots, v-1\\}^{v} \\to \\text{Embedding Sequence} \\in \\mathbb{R}^{n\\times d}$$\n",
    "\n",
    "<br>\n",
    "\n",
    "### **Sentence/Document Embeddings: Capturing Context and Meaning**\n",
    "\n",
    "When dealing with sentences or entire documents, embeddings play a crucial role in capturing context, meanings, and interactions between elements. Practically all large language models leverage a **transformer-like architecture** to generate these sentence/document embeddings. The transformer allows the network to communicate both per-token-level and sequence-level information as it becomes useful for the optimization problem.\n",
    "\n",
    "<br>\n",
    "\n",
    "### **Decoder Models in Language Generation**\n",
    "\n",
    "Decoder models, commonly used in chatbots and other language generation tasks, start by taking a sequence of tokens as input. They embed these tokens into a latent sequence, applying unidirectional reasoning to focus on a specific part of the output sequence. From this focused, semantically dense point, the model predicts the next token in the sequence:\n",
    "\n",
    "$$$$\n",
    "$$\\text{[ Next-Token Generation ]}$$\n",
    "$$\\text{Embedding Sequence} \\in \\mathbb{R}^{n\\times d} \\to \\text{Latent Sequence} \\in \\mathbb{R}^{n\\times d}$$\n",
    "$$(\\text{Latent Sequence})[\\text{last entry}] \\in \\mathbb{R}^{d} \\to \\text{Token Prediction} \\in \\mathbb{R}^{v}$$\n",
    "$$$$\n",
    "\n",
    "This process continues, collapsing the token prediction from a vector to a realized token and building up a predicted sequence until a termination condition — such as a length limit or stop token — gets satisfied.\n",
    "\n",
    "$$$$\n",
    "$$\\text{[ Autoregressive Generation ]}$$\n",
    "$$(\\text{Original + Predicted Embedding Sequence}) \\in \\mathbb{R}^{(n+1)\\times e} \\to \\text{Token Prediction} \\in \\mathbb{R}^{v}$$\n",
    "$$\\vdots$$\n",
    "$$(\\text{Original + Predicted Embedding Sequence}) \\in \\mathbb{R}^{(n+m)\\times e} \\to \\text{Token Prediction} \\in \\mathbb{R}^{v}$$\n",
    "$$$$\n",
    "<br>\n",
    "\n",
    "### **Encoder Models For Sequence Encoding**\n",
    "\n",
    "Encoder models use a bidirectional architecture, making them suitable for different types of tasks compared to decoder models. They are particularly effective in tasks like token or sequence prediction. Letting $c$ be a number of classes or regressional values:\n",
    "\n",
    "$$$$\n",
    "$$\\text{[ Per-Token Prediction ]}$$\n",
    "$$\\text{Embedding Sequence} \\in \\mathbb{R}^{n\\times d} \\to \\text{Latent Sequence} \\in \\mathbb{R}^{n\\times d} \\to \\text{Per-Token Predictions} \\in \\mathbb{R}^{n\\times c}$$\n",
    "\n",
    "$$$$\n",
    "$$\\text{[ Full-Sequence Prediction ]}$$\n",
    "$$\\text{Embedding Sequence} \\in \\mathbb{R}^{n\\times d} \\to \\text{Latent Sequence} \\in \\mathbb{R}^{n\\times d}$$\n",
    "$$(\\text{Latent Sequence})[\\text{0th entry}] \\in \\mathbb{R}^{d} \\to \\text{Sequence Prediction} \\in \\mathbb{R}^{c}$$\n",
    "\n",
    "<br>\n",
    "\n",
    "> <img src=\"https://dli-lms.s3.amazonaws.com/assets/s-fx-15-v1/imgs/encoder-decoder.png\" width=1200px/>\n",
    "<!-- > <img src=\"https://drive.google.com/uc?export=view&id=1lhswkAgb5TlDxezg3qDNZQKbOMGFz7H5\" width=1200px/> -->\n"
   ]
  },
  {
   "cell_type": "markdown",
   "metadata": {
    "id": "-VVkFBPFUU0v"
   },
   "source": [
    "----\n",
    "\n",
    "<br>\n",
    "\n",
    "## **Part 2:** Using An NVIDIAEmbeddings Model\n",
    "\n",
    "For this notebook, we will use an embedding model with two pathways: shorter-form \"query\" and longer-form \"passage\" pathways. In doing so, we will see how to properly reason about its outputs and utilize it to complement our existing LLM toolset!\n",
    "\n",
    "To pull in our model, we will once again take advantage of the AI foundation model endpoints and its integration with LangChain! This part of the notebook will closely resemble the [**official NVIDIAEmbeddings documentation**](https://python.langchain.com/docs/integrations/text_embedding/nvidia_ai_endpoints).\n",
    "\n",
    "\n",
    "At the time of writing, the current recommended model for this task is the [**NVIDIA Retrieval QA Embedding model**](https://build.nvidia.com/nvidia/embed-qa-4), which is a legally-vetted fine-tuned variant of the [**E5-Large embedding model**](https://huggingface.co/intfloat/e5-large) listed under the `nvolveqa_40k` designation. This designation may have changed, so check over the available list and identify the current recommendation.\n",
    "\n",
    "<br>\n",
    "\n",
    "### **Identifying Our Model**\n",
    "\n",
    "Among your available models, you should find an embedding model suitable for discriminating between human-readable passages. After identifying the endpoint of interest, create an `NVIDIAEmbeddings` instance that will connect to it and see what methods it provides.\n"
   ]
  },
  {
   "cell_type": "code",
   "execution_count": 5,
   "metadata": {},
   "outputs": [],
   "source": [
    "# import os\n",
    "# os.environ['OPENAI_API_KEY'] = ''"
   ]
  },
  {
   "cell_type": "code",
   "execution_count": 7,
   "metadata": {},
   "outputs": [],
   "source": [
    "from langchain_openai import ChatOpenAI\n",
    "from pydantic import BaseModel, Field\n",
    "from langchain.document_loaders import UnstructuredFileLoader\n",
    "from langchain.document_loaders import ArxivLoader\n",
    "\n",
    "# [m for m in NVIDIAEmbeddings.get_available_models() if \"embed\" in m.id]\n",
    "from langchain_openai import OpenAIEmbeddings"
   ]
  },
  {
   "cell_type": "code",
   "execution_count": 50,
   "metadata": {
    "id": "E0cox65gUj3O"
   },
   "outputs": [
    {
     "data": {
      "text/plain": [
       "'Hello! How can I assist you today?'"
      ]
     },
     "execution_count": 50,
     "metadata": {},
     "output_type": "execute_result"
    }
   ],
   "source": [
    "# from langchain_nvidia_ai_endpoints import ChatNVIDIA, NVIDIAEmbeddings\n",
    "\n",
    "# NVIDIAEmbeddings.get_available_models()\n",
    "# embedder = NVIDIAEmbeddings(model=\"nvidia/nv-embedqa-mistral-7b-v2\")\n",
    "# embedder = NVIDIAEmbeddings(model=\"nvidia/nv-embedqa-e5-v5\")\n",
    "# embedder = NVIDIAEmbeddings(model=\"nvidia/embed-qa-4\")\n",
    "# embedder = NVIDIAEmbeddings(model=\"snowflake/arctic-embed-l\")\n",
    "# embedder = NVIDIAEmbeddings(model=\"nvidia/nv-embed-v1\")\n",
    "# ChatNVIDIA.get_available_models()\n",
    "# instruct_llm = ChatNVIDIA(model=\"mistralai/mixtral-8x7b-instruct-v0.1\")\n",
    "\n",
    "from langchain_openai import OpenAIEmbeddings\n",
    "from langchain_openai import ChatOpenAI\n",
    "from langchain_core.runnables import RunnableLambda\n",
    "from langchain_core.output_parsers import StrOutputParser\n",
    "\n",
    "embedder = OpenAIEmbeddings(\n",
    "    model=\"text-embedding-3-small\",\n",
    "    # With the `text-embedding-3` class\n",
    "    # of models, you can specify the size\n",
    "    # of the embeddings you want returned.\n",
    "    dimensions=512\n",
    ")\n",
    "\n",
    "instruct_model = ChatOpenAI(model=\"gpt-4o-mini\").bind(max_tokens=512)\n",
    "instruct_llm = instruct_model | StrOutputParser()\n",
    "instruct_llm.invoke(\"Hello, world!\")\n",
    "# RunnableLambda(lambda x: \"Hello, world!\") | RunnableLambda(\n",
    "#     lambda x: print(x)) | instruct_llm.invoke"
   ]
  },
  {
   "cell_type": "markdown",
   "metadata": {
    "id": "baJff0HGUv9K"
   },
   "source": [
    "### **Optimizing Data Embedding with the API**\n",
    "\n",
    "In leveraging LangChain's `Embeddings` interface with our NVIDIAEmbeddings model, we focus on the dual pathways of embedding both **queries** and **documents**. This distinction plays a pivotal role in how the data is processed and utilized in retrieval-based applications:\n",
    "\n",
    "<br>\n",
    "\n",
    "#### **Query Embedding**\n",
    "- **Purpose**: Designed for embedding shorter-form or question-like material, such as a simple statement or a question.\n",
    "- **Method**: Utilizes `embed_query` for embedding each query individually.\n",
    "- **Role in Retrieval**: Acts as the \"key\" creator to enable search (query process) in a document retrieval framework.\n",
    "- **Usage Pattern**: Embedded dynamically, as needed, for comparison against a pre-processed collection of document embeddings.\n",
    "\n",
    "<br>\n",
    "\n",
    "#### **Document Embedding**\n",
    "- **Purpose**: Tailored for longer-form or response-like content, including document chunks or paragraphs.\n",
    "- **Method**: Employs `embed_documents` for batch processing of documents.\n",
    "- **Role in Retrieval**: Acts as the \"value\" creator to make the searchable content for the retrieval system.\n",
    "- **Usage Pattern**: Typically embedded en masse as a pre-processing step, creating a repository of document embeddings for future querying.\n",
    "\n",
    "<br>\n",
    "\n",
    "#### **Underlying Similarities and Practical Application**\n",
    "\n",
    "Though distinct in their application, both processes share a core functionality: they process textual content into semantically rich, vectorized representations. The choice between `embed_query` and `embed_documents` hinges on the nature of the content and the intended use within the retrieval system.\n",
    "\n",
    "<br>\n",
    "\n",
    "#### **Exploration with Example \"Queries\" and \"Documents\"**\n",
    "\n",
    "Let's consider a set of example queries and documents to kickstart our exploration and understand these processes in action. These examples are carefully selected to highlight interesting properties and showcase our embedding model's capabilities for general text reasoning.\n"
   ]
  },
  {
   "cell_type": "code",
   "execution_count": 52,
   "metadata": {
    "id": "FQr_-4fjUyZa"
   },
   "outputs": [],
   "source": [
    "# Example queries and documents\n",
    "queries = [\n",
    "    \"¿Cuál es el clima en las Montañas Rocosas?\",\n",
    "    \"¿Qué tipos de comida es famosa Italia?\",\n",
    "    \"¿Cuál es mi nombre? Apuesto a que no te acuerdas...\",\n",
    "    \"¿Cuál es el punto de la vida de todas maneras?\",\n",
    "    \"El punto de la vida es divertirse :D\"\n",
    "]\n",
    "\n",
    "documents = [\n",
    "    \"El clima de Komchatka es frío, con largos e intensos inviernos.\",\n",
    "    \"Italia es famosa por la pasta, la pizza, el gelato y el espresso.\",\n",
    "    \"No puedo recordar nombres personales, solo proporciono información.\",\n",
    "    \"El propósito de la vida varía, a menudo visto como la realización personal.\",\n",
    "    \"Disfrutar los momentos de la vida es en verdad un enfoque maravilloso.\",\n",
    "]"
   ]
  },
  {
   "cell_type": "markdown",
   "metadata": {
    "id": "_6PPz3YRU4Pn"
   },
   "source": [
    "We can encode these passages via either the query or the document pathways. Since the method signatures differ due to their intended use cases, the syntax will be a bit different between the two options:\n"
   ]
  },
  {
   "cell_type": "code",
   "execution_count": 53,
   "metadata": {
    "colab": {
     "base_uri": "https://localhost:8080/"
    },
    "executionInfo": {
     "elapsed": 4346,
     "status": "ok",
     "timestamp": 1703280307941,
     "user": {
      "displayName": "Vadim Kudlay",
      "userId": "00553664172613290122"
     },
     "user_tz": 360
    },
    "id": "64KDS0jgU555",
    "outputId": "bb12a52c-8478-4f3c-fafa-337ffd78b1c0"
   },
   "outputs": [
    {
     "name": "stdout",
     "output_type": "stream",
     "text": [
      "CPU times: user 68.6 ms, sys: 1.86 ms, total: 70.5 ms\n",
      "Wall time: 2.3 s\n"
     ]
    }
   ],
   "source": [
    "%%time\n",
    "# Embedding the queries\n",
    "q_embeddings = [embedder.embed_query(query) for query in queries]\n",
    "\n",
    "# Embedding the documents\n",
    "d_embeddings = embedder.embed_documents(documents)"
   ]
  },
  {
   "cell_type": "code",
   "execution_count": 54,
   "metadata": {},
   "outputs": [
    {
     "name": "stdout",
     "output_type": "stream",
     "text": [
      "5 <class 'list'> 0.0014123818837106228\n"
     ]
    }
   ],
   "source": [
    "print(len(q_embeddings), type(q_embeddings[0]), q_embeddings[0][0])"
   ]
  },
  {
   "cell_type": "markdown",
   "metadata": {
    "id": "n4UEVqS6U7_l"
   },
   "source": [
    "With our embeddings in hand, we can do a simple similarity check on the results to see which documents would have triggered as reasonable answers in a retrieval task. When your entries are ready, run the following code block to visualize the cross-similarity matrix."
   ]
  },
  {
   "cell_type": "code",
   "execution_count": 27,
   "metadata": {
    "colab": {
     "base_uri": "https://localhost:8080/",
     "height": 564
    },
    "executionInfo": {
     "elapsed": 2589,
     "status": "ok",
     "timestamp": 1703280310522,
     "user": {
      "displayName": "Vadim Kudlay",
      "userId": "00553664172613290122"
     },
     "user_tz": 360
    },
    "id": "WF3Exs6JU9ky",
    "outputId": "4a97aa87-6e06-42bf-f0ca-1689b0878f92"
   },
   "outputs": [
    {
     "data": {
      "image/png": "[encoded data removed]",
      "text/plain": [
       "<Figure size 800x600 with 2 Axes>"
      ]
     },
     "metadata": {},
     "output_type": "display_data"
    }
   ],
   "source": [
    "import numpy as np\n",
    "import matplotlib.pyplot as plt\n",
    "from sklearn.metrics.pairwise import cosine_similarity\n",
    "\n",
    "def plot_cross_similarity_matrix(emb1, emb2):\n",
    "    # Compute the similarity matrix between embeddings1 and embeddings2\n",
    "    cross_similarity_matrix = cosine_similarity(np.array(emb1), np.array(emb2))\n",
    "\n",
    "    # Plotting the cross-similarity matrix\n",
    "    plt.imshow(cross_similarity_matrix, cmap='Greens', interpolation='nearest')\n",
    "    plt.colorbar()\n",
    "    plt.gca().invert_yaxis()\n",
    "    plt.title(\"Cross-Similarity Matrix\")\n",
    "    plt.grid(True)\n",
    "\n",
    "plt.figure(figsize=(8, 6))\n",
    "plot_cross_similarity_matrix(q_embeddings, d_embeddings)\n",
    "plt.xlabel(\"Query Embeddings\")\n",
    "plt.ylabel(\"Document Embeddings\")\n",
    "plt.show()"
   ]
  },
  {
   "cell_type": "markdown",
   "metadata": {},
   "source": [
    "La imagen que muestras parece ser una **matriz de similitud de coseno** entre embeddings de consulta y embeddings de documentos, comúnmente utilizada para medir la similitud entre vectores de características. Esta matriz de similitud es útil en sistemas de recuperación de información o búsqueda semántica, donde se comparan las representaciones vectoriales de consultas (queries) con documentos.\n",
    "\n",
    "### ¿Cómo interpretar esta matriz de similitud?\n",
    "\n",
    "1. **Ejes**:\n",
    "   - El eje **Y** representa los **document embeddings** (embeddings de documentos).\n",
    "   - El eje **X** representa los **query embeddings** (embeddings de las consultas).\n",
    "   \n",
    "2. **Colores**:\n",
    "   - El color de cada celda en la matriz representa la **similitud de coseno** entre un embedding de consulta (en el eje X) y un embedding de documento (en el eje Y).\n",
    "   - Cuanto más oscuro es el color verde, más alta es la similitud entre los dos vectores.\n",
    "   - Cuanto más claro el color, menor es la similitud.\n",
    "\n",
    "3. **Valores de la similitud**:\n",
    "   - El rango de la similitud de coseno está entre **0** (sin similitud) y **1** (completamente similares).\n",
    "   - La barra de color a la derecha muestra que los valores más altos, cercanos a **1** (oscuro), representan alta similitud, mientras que los valores más cercanos a **0** (claro) representan baja similitud.\n",
    "\n",
    "### Interpretación específica:\n",
    "- En tu matriz, las celdas más oscuras alrededor de la fila 1 y la columna 1 indican una alta similitud entre esa consulta (columna 1) y los documentos correspondientes (filas).\n",
    "- Por otro lado, las celdas más claras indican que esas consultas y documentos son menos similares.\n",
    "  \n",
    "### Uso típico:\n",
    "Esta matriz de similitud puede usarse para encontrar qué documentos son más relevantes para una consulta dada. Por ejemplo:\n",
    "- Si una celda en la posición (1,1) es oscura, significa que el documento 1 es muy similar a la consulta 1.\n",
    "- Las celdas más oscuras ayudarían a identificar cuáles documentos tienen mayor relación con las consultas, facilitando la recuperación de información relevante.\n",
    "\n",
    "En resumen, esta gráfica muestra cómo de similares son los embeddings de consultas respecto a los embeddings de documentos y te ayuda a identificar patrones de similitud en un espacio multidimensional."
   ]
  },
  {
   "cell_type": "markdown",
   "metadata": {},
   "source": [
    "### NOTA: Visualizacion de vectores en 3D\n",
    "\n",
    "La función **`cosine_similarity`** de `sklearn.metrics.pairwise` calcula la **similaridad del coseno** entre vectores. Esta medida cuantifica qué tan similares son dos vectores basándose en el ángulo entre ellos. El rango de valores de **`cosine_similarity`** va de **-1 a 1**, donde:\n",
    "\n",
    "- **1** indica que los vectores son idénticos (están completamente alineados).\n",
    "- **0** indica que los vectores son ortogonales, es decir, no tienen ninguna similitud.\n",
    "- **-1** indica que los vectores son completamente opuestos.\n",
    "\n",
    "### Interpretación de los resultados:\n",
    "- **Valores cercanos a 1**: Significa que los vectores son muy similares o apuntan en la misma dirección.\n",
    "- **Valores cercanos a 0**: Indica que no hay relación o que los vectores son ortogonales (sin similitud en términos de dirección).\n",
    "- **Valores negativos (cercanos a -1)**: Indican que los vectores son opuestos, lo que sugiere una similitud inversa.\n",
    "\n",
    "### Ejemplo de uso:\n",
    "\n",
    "```python\n",
    "from sklearn.metrics.pairwise import cosine_similarity\n",
    "import numpy as np\n",
    "\n",
    "# Ejemplo con dos vectores\n",
    "vector_1 = np.array([[1, 0, 1]])\n",
    "vector_2 = np.array([[0, 1, 1]])\n",
    "\n",
    "# Calcular la similitud del coseno\n",
    "similarity = cosine_similarity(vector_1, vector_2)\n",
    "\n",
    "print(similarity)\n",
    "```\n",
    "\n",
    "### Interpretación:\n",
    "- El valor de la salida será entre **-1 y 1**:\n",
    "  - **1**: Vectores muy similares.\n",
    "  - **0**: Sin relación.\n",
    "  - **-1**: Totalmente opuestos.\n",
    "\n",
    "Si obtienes un valor de **0.5**, por ejemplo, significa que hay una similitud moderada entre los dos vectores, pero no son idénticos.\n"
   ]
  },
  {
   "cell_type": "code",
   "execution_count": 42,
   "metadata": {},
   "outputs": [
    {
     "data": {
      "image/png": "[encoded data removed]",
      "text/plain": [
       "<Figure size 640x480 with 1 Axes>"
      ]
     },
     "metadata": {},
     "output_type": "display_data"
    }
   ],
   "source": [
    "import numpy as np\n",
    "import matplotlib.pyplot as plt\n",
    "from mpl_toolkits.mplot3d import Axes3D\n",
    "\n",
    "# Definir los vectores\n",
    "vector_1 = np.array([1, 0, 1])\n",
    "vector_2 = np.array([0, 1, 1])\n",
    "\n",
    "# Crear una figura y un eje en 3D\n",
    "fig = plt.figure()\n",
    "ax = fig.add_subplot(111, projection='3d')\n",
    "\n",
    "# Origen de los vectores (0, 0, 0)\n",
    "origin = np.array([0, 0, 0])\n",
    "\n",
    "# Graficar los vectores\n",
    "ax.quiver(*origin, *vector_1, color='r', label='Vector 1')\n",
    "ax.quiver(*origin, *vector_2, color='b', label='Vector 2')\n",
    "\n",
    "# Configuración de los ejes\n",
    "ax.set_xlim([0, 1])\n",
    "ax.set_ylim([0, 1])\n",
    "ax.set_zlim([0, 1])\n",
    "ax.set_xlabel('X')\n",
    "ax.set_ylabel('Y')\n",
    "ax.set_zlabel('Z')\n",
    "\n",
    "# Ajustar el ángulo de la cámara\n",
    "ax.view_init(elev=30, azim=45)  # Ajusta los valores para una mejor vista\n",
    "\n",
    "# Título y leyenda\n",
    "plt.title(\"Gráfico de Vectores en 3D\")\n",
    "plt.legend()\n",
    "\n",
    "# Mostrar el gráfico\n",
    "plt.show()"
   ]
  },
  {
   "cell_type": "markdown",
   "metadata": {
    "id": "7KJgJi-1pBGv"
   },
   "source": [
    "----\n",
    "\n",
    "<br>\n",
    "\n",
    "## **Part 3: [Exercise]** A Synthetic - But More Realistic - Example\n",
    "\n",
    "Observe that the entries that could be perceived as good input/output pairs trigger relatively high similarity on embedding. It is worth mentioning that, depending on the encoder model convergence, the query and document pathway may or may not be significantly different:\n"
   ]
  },
  {
   "cell_type": "code",
   "execution_count": 43,
   "metadata": {
    "colab": {
     "base_uri": "https://localhost:8080/",
     "height": 564
    },
    "executionInfo": {
     "elapsed": 2955,
     "status": "ok",
     "timestamp": 1703280313466,
     "user": {
      "displayName": "Vadim Kudlay",
      "userId": "00553664172613290122"
     },
     "user_tz": 360
    },
    "id": "ug1wCynFVLTu",
    "outputId": "0a2b59ef-6412-4a4c-af3a-cdac1f953e23"
   },
   "outputs": [
    {
     "data": {
      "image/png": "[encoded data removed]",
      "text/plain": [
       "<Figure size 800x600 with 2 Axes>"
      ]
     },
     "metadata": {},
     "output_type": "display_data"
    }
   ],
   "source": [
    "plt.figure(figsize=(8, 6))\n",
    "plot_cross_similarity_matrix(\n",
    "    q_embeddings,\n",
    "    [embedder.embed_query(doc) for doc in documents]\n",
    ")\n",
    "plt.xlabel(\"Query Embeddings (of queries)\")\n",
    "plt.ylabel(\"Query Embeddings (of documents)\")\n",
    "plt.show()"
   ]
  },
  {
   "cell_type": "markdown",
   "metadata": {
    "id": "6PZfE43OVM5i"
   },
   "source": [
    "The real utility of having a \"bi-encoder\" **in general** is that the second encoder can be trained to remain consistent with the first even if the format of the input starts deviating drastically. To help illustrate this, we can flesh out our documents into longer-form variations and try the same experiment again."
   ]
  },
  {
   "cell_type": "code",
   "execution_count": null,
   "metadata": {
    "colab": {
     "base_uri": "https://localhost:8080/"
    },
    "executionInfo": {
     "elapsed": 39297,
     "status": "ok",
     "timestamp": 1703280352758,
     "user": {
      "displayName": "Vadim Kudlay",
      "userId": "00553664172613290122"
     },
     "user_tz": 360
    },
    "id": "WcWDupQoVORf",
    "outputId": "b31815cd-9883-49fb-9aa7-0b3c83b6aeff"
   },
   "outputs": [],
   "source": [
    "from langchain_nvidia_ai_endpoints import ChatNVIDIA\n",
    "from langchain_core.prompts import ChatPromptTemplate\n",
    "from langchain_core.output_parsers import StrOutputParser\n",
    "from operator import itemgetter\n",
    "\n",
    "expound_prompt = ChatPromptTemplate.from_template(\n",
    "    \"Genera parte de una historia más larga que podría razonablemente responder todas\"\n",
    "    \" estas preguntas en algún lugar de su contenido: {questions}\\n\"\n",
    "    \" Asegúrate de que el pasaje solo responde concretamente a la siguiente: {q1}.\"\n",
    "    \" Dale un formato extraño, y trata de no responder a las demás.\"\n",
    "    \" No incluyas ningún comentario como 'Aquí está tu respuesta'\"\n",
    ")\n",
    "\n",
    "###############################################################################################\n",
    "## BEGIN TODO\n",
    "\n",
    "expound_chain = (\n",
    "    # TODO: desarrollar documentos de una forma más detallada implementando expound_chain\n",
    "    # que aprovecha el mensaje y el llm proporcionados anteriormente.\n",
    "    {}\n",
    ")\n",
    "# Se define una cadena de procesamiento para expandir documentos\n",
    "expound_chain = (\n",
    "    # Se especifican los extractores de ítems para 'q1' y 'questions'\n",
    "    {'q1': itemgetter(0), 'questions': itemgetter(1)}\n",
    "    # Se aplica el template de pregunta expandida\n",
    "    | expound_prompt\n",
    "    # Se instruye al modelo de lenguaje para procesar la entrada\n",
    "    | instruct_llm\n",
    "    # Se parsea la salida como una cadena de texto\n",
    "    | StrOutputParser()\n",
    ")\n",
    "\n",
    "\n",
    "longer_docs = []\n",
    "for i, q in enumerate(queries):\n",
    "    ## TODO: Invoke the expound_chain pipeline as appropriate\n",
    "    longer_doc = expound_chain.invoke([q, queries])\n",
    "    pprint(f\"\\n[Query {i+1}] {q}\")\n",
    "    pprint(f\"\\n[Document {i+1}] {longer_doc}\")\n",
    "    pprint(\"-\"*64)\n",
    "    longer_docs += [longer_doc]\n",
    "\n",
    "## END TODO\n",
    "###############################################################################################"
   ]
  },
  {
   "cell_type": "markdown",
   "metadata": {
    "id": "EnMf8OoeVQJU"
   },
   "source": [
    "-----\n",
    "\n",
    "When you're happy with the longer-form documents, please run the code below to see how the embeddings compare. The results may be similar, but there is at least some mathematically-optimized relationship that might help improve retrieval results at a larger scale. This result will also vary depending on the bi-encoder model, so keep that in mind.\n",
    "\n",
    "In general, it's a good idea to default towards using the opposite encoder for its advertised use case and gravitate closer towards using the same encoder when you assume that the things you're comparing are similar in form and modality. To be clear, the deviation for the model we tested was only slightly different between the two options, but it's still a consideration to make.\n"
   ]
  },
  {
   "cell_type": "code",
   "execution_count": null,
   "metadata": {
    "colab": {
     "base_uri": "https://localhost:8080/",
     "height": 499
    },
    "executionInfo": {
     "elapsed": 6551,
     "status": "ok",
     "timestamp": 1703280359298,
     "user": {
      "displayName": "Vadim Kudlay",
      "userId": "00553664172613290122"
     },
     "user_tz": 360
    },
    "id": "9dNLQoGdVRnV",
    "outputId": "3e891ae7-4795-4887-dbf2-3789ba1035f0"
   },
   "outputs": [],
   "source": [
    "import sys\n",
    "## At the time of writing, our embedding model supports up to 2048 tokens...\n",
    "longer_docs_cut = [doc[:2048] for doc in longer_docs]\n",
    "# pprint(longer_docs_cut[0])\n",
    "# sys.exit()\n",
    "\n",
    "\n",
    "# # Embedding the queries\n",
    "# q_embeddings = [embedder.embed_query(query) for query in queries]\n",
    "# # Embedding the documents\n",
    "# d_embeddings = embedder.embed_documents(documents)\n",
    "\n",
    "q_long_embs = [embedder.embed_query([doc[0]]) for doc in longer_docs_cut]\n",
    "pprint(q_long_embs[0][0])\n",
    "# d_long_embs = [embedder.embed_documents([doc])[0] for doc in longer_docs_cut]\n",
    "# pprint(d_long_embs[0][0])\n",
    "sys.exit()\n",
    "\n",
    "# embed_query: Este método se utiliza para generar embeddings de una sola consulta o documento.\n",
    "# Es adecuado para consultas de texto que representen búsquedas o preguntas.\n",
    "# embed_documents: Se usa para generar embeddings de una o más piezas de texto que se consideren\n",
    "# \"documentos\". Dado que parece que tienes una lista de documentos en longer_docs_cut, embed_documents es el método adecuado.\n",
    "\n",
    "## The difference for any particular example may be very small.\n",
    "## We've raised the similarity matrix to the power of 5 to try and spot a difference.\n",
    "plt.figure(figsize=(12, 6))\n",
    "plt.subplot(1, 2, 1)\n",
    "plot_cross_similarity_matrix(q_embeddings, q_long_embs)\n",
    "plt.xlabel(\"Query Embeddings (of queries)\")\n",
    "plt.ylabel(\"Query Embeddings (of long documents)\")\n",
    "\n",
    "plt.subplot(1, 2, 2)\n",
    "plot_cross_similarity_matrix(q_embeddings, d_long_embs)\n",
    "plt.xlabel(\"Query Embeddings (of queries)\")\n",
    "plt.ylabel(\"Document Embeddings (of long documents)\")\n",
    "plt.show()"
   ]
  },
  {
   "cell_type": "markdown",
   "metadata": {
    "id": "b4ZQa2eRnx3C"
   },
   "source": [
    "<br>\n",
    "\n",
    "**NOTE:** To see two drastically different bi-encoder components, consider checking out the CLIP model in the [AI Foundation Models](https://catalog.ngc.nvidia.com/ai-foundation-models) directory. This bi-encoder pair synergizes over a much wider modality gap to connect the image and text modalities instead of the query and document ones.\n"
   ]
  },
  {
   "cell_type": "markdown",
   "metadata": {
    "id": "jjP76N4o1bUi"
   },
   "source": [
    "----\n",
    "\n",
    "<br>\n",
    "\n",
    "## **Part 4: [Exercise]** Embeddings For Semantic Guardrails\n",
    "\n",
    "In the next notebook, we will start to use higher-level utilities which will take our embedding model and use it under the hood. With that being said, there are several important concepts that can still be explored while the raw methods are still fresh!\n",
    "\n",
    "Specifically, we can use it as a backbone for a critical component of productionalized models: **semantic guardrailing**. Specifically, we can use the embeddings to filter out messages that are unlikely to be useful (or are actively harmful) for our chatbot to answer!\n",
    "\n",
    "**This exercise has been segmented into [**`64_guardrails.ipynb`**](64_guardrails.ipynb).**"
   ]
  },
  {
   "cell_type": "markdown",
   "metadata": {
    "id": "k0fFoZEVnI94"
   },
   "source": [
    "-----\n",
    "\n",
    "## **Part 5:** Wrap-Up\n",
    "\n",
    "By the end of this notebook, you should be familiar with the value proposition of a semantic embedding model and understand how we can use it to search through a dataset for relevant information!\n",
    "\n",
    "### <font color=\"#76b900\">**Great Job!**</font>\n",
    "\n",
    "### **Next Steps:**\n",
    "1. **[Optional]** Revisit the **\"Questions To Think About\" Section** at the top of the notebook and think about some possible answers.\n",
    "2. **[Advanced]** If you have the time, please check out and try to complete the **Notebook 6.4**, which covers semantic guardrails.\n",
    "3. Continue to the next video, which will discuss **Retrieval with Vectorstores**.\n",
    "4. After the video, go on to the corresponding notebook on **Retrieval with Vectorstores**.\n",
    "\n",
    "---"
   ]
  },
  {
   "cell_type": "markdown",
   "metadata": {
    "id": "nZynySFaVuLs"
   },
   "source": [
    "<center><a href=\"https://www.nvidia.com/en-us/training/\"><img src=\"https://dli-lms.s3.amazonaws.com/assets/general/DLI_Header_White.png\" width=\"400\" height=\"186\" /></a></center>"
   ]
  }
 ],
 "metadata": {
  "colab": {
   "provenance": []
  },
  "kernelspec": {
   "display_name": "Python 3 (ipykernel)",
   "language": "python",
   "name": "python3"
  },
  "language_info": {
   "codemirror_mode": {
    "name": "ipython",
    "version": 3
   },
   "file_extension": ".py",
   "mimetype": "text/x-python",
   "name": "python",
   "nbconvert_exporter": "python",
   "pygments_lexer": "ipython3",
   "version": "3.10.12"
  }
 },
 "nbformat": 4,
 "nbformat_minor": 4
}
